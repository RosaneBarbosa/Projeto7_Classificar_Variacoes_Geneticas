{
 "cells": [
  {
   "cell_type": "markdown",
   "metadata": {},
   "source": [
    "# Projeto com Feedback 7\n",
    "\n",
    "## Medicina Personalizada - Redefinindo o Tratamento de Câncer\n",
    "\n",
    "### Rosane Moreira Barbosa"
   ]
  },
  {
   "cell_type": "code",
   "execution_count": 1,
   "metadata": {},
   "outputs": [],
   "source": [
    "# Importando pacotes\n",
    "\n",
    "import os\n",
    "import random\n",
    "import numpy as np\n",
    "import pandas as pd\n",
    "import seaborn as sns\n",
    "import matplotlib\n",
    "import matplotlib.pyplot as plt\n",
    "%matplotlib inline\n",
    "import warnings\n",
    "warnings.filterwarnings(\"ignore\")"
   ]
  },
  {
   "cell_type": "markdown",
   "metadata": {},
   "source": [
    "## 1 - Carregando os Dados"
   ]
  },
  {
   "cell_type": "markdown",
   "metadata": {},
   "source": [
    "### 1.1 - Carregando os dados das informações sobre as mutações genéticas"
   ]
  },
  {
   "cell_type": "code",
   "execution_count": 2,
   "metadata": {},
   "outputs": [],
   "source": [
    "# Carregando os dados de treino\n",
    "df_treino_variantes = pd.read_csv('data/training_variants')"
   ]
  },
  {
   "cell_type": "code",
   "execution_count": 3,
   "metadata": {},
   "outputs": [
    {
     "data": {
      "text/html": [
       "<div>\n",
       "<style scoped>\n",
       "    .dataframe tbody tr th:only-of-type {\n",
       "        vertical-align: middle;\n",
       "    }\n",
       "\n",
       "    .dataframe tbody tr th {\n",
       "        vertical-align: top;\n",
       "    }\n",
       "\n",
       "    .dataframe thead th {\n",
       "        text-align: right;\n",
       "    }\n",
       "</style>\n",
       "<table border=\"1\" class=\"dataframe\">\n",
       "  <thead>\n",
       "    <tr style=\"text-align: right;\">\n",
       "      <th></th>\n",
       "      <th>ID</th>\n",
       "      <th>Gene</th>\n",
       "      <th>Variation</th>\n",
       "      <th>Class</th>\n",
       "    </tr>\n",
       "  </thead>\n",
       "  <tbody>\n",
       "    <tr>\n",
       "      <th>0</th>\n",
       "      <td>0</td>\n",
       "      <td>FAM58A</td>\n",
       "      <td>Truncating Mutations</td>\n",
       "      <td>1</td>\n",
       "    </tr>\n",
       "    <tr>\n",
       "      <th>1</th>\n",
       "      <td>1</td>\n",
       "      <td>CBL</td>\n",
       "      <td>W802*</td>\n",
       "      <td>2</td>\n",
       "    </tr>\n",
       "    <tr>\n",
       "      <th>2</th>\n",
       "      <td>2</td>\n",
       "      <td>CBL</td>\n",
       "      <td>Q249E</td>\n",
       "      <td>2</td>\n",
       "    </tr>\n",
       "    <tr>\n",
       "      <th>3</th>\n",
       "      <td>3</td>\n",
       "      <td>CBL</td>\n",
       "      <td>N454D</td>\n",
       "      <td>3</td>\n",
       "    </tr>\n",
       "    <tr>\n",
       "      <th>4</th>\n",
       "      <td>4</td>\n",
       "      <td>CBL</td>\n",
       "      <td>L399V</td>\n",
       "      <td>4</td>\n",
       "    </tr>\n",
       "  </tbody>\n",
       "</table>\n",
       "</div>"
      ],
      "text/plain": [
       "   ID    Gene             Variation  Class\n",
       "0   0  FAM58A  Truncating Mutations      1\n",
       "1   1     CBL                 W802*      2\n",
       "2   2     CBL                 Q249E      2\n",
       "3   3     CBL                 N454D      3\n",
       "4   4     CBL                 L399V      4"
      ]
     },
     "execution_count": 3,
     "metadata": {},
     "output_type": "execute_result"
    }
   ],
   "source": [
    "# Visualizando os dados\n",
    "df_treino_variantes.head()"
   ]
  },
  {
   "cell_type": "code",
   "execution_count": 4,
   "metadata": {},
   "outputs": [
    {
     "data": {
      "text/plain": [
       "(3321, 4)"
      ]
     },
     "execution_count": 4,
     "metadata": {},
     "output_type": "execute_result"
    }
   ],
   "source": [
    "# Shape dos dados\n",
    "df_treino_variantes.shape"
   ]
  },
  {
   "cell_type": "code",
   "execution_count": 5,
   "metadata": {},
   "outputs": [
    {
     "data": {
      "text/plain": [
       "ID           0\n",
       "Gene         0\n",
       "Variation    0\n",
       "Class        0\n",
       "dtype: int64"
      ]
     },
     "execution_count": 5,
     "metadata": {},
     "output_type": "execute_result"
    }
   ],
   "source": [
    "# Verificando se existem dados missing\n",
    "df_treino_variantes.isnull().sum()"
   ]
  },
  {
   "cell_type": "markdown",
   "metadata": {},
   "source": [
    "### 1.2 - Carregando os dados da evidência clínica (texto) usada para classificar as mutações genéticas"
   ]
  },
  {
   "cell_type": "code",
   "execution_count": 6,
   "metadata": {},
   "outputs": [],
   "source": [
    "# Carregando os dados de treino\n",
    "df_treino_texto = pd.read_csv('data/training_text',\n",
    "                              sep = '\\|\\|',\n",
    "                              engine = 'python',\n",
    "                              names = ['ID', 'Texto'], \n",
    "                              skiprows = 1)"
   ]
  },
  {
   "cell_type": "code",
   "execution_count": 7,
   "metadata": {},
   "outputs": [
    {
     "data": {
      "text/html": [
       "<div>\n",
       "<style scoped>\n",
       "    .dataframe tbody tr th:only-of-type {\n",
       "        vertical-align: middle;\n",
       "    }\n",
       "\n",
       "    .dataframe tbody tr th {\n",
       "        vertical-align: top;\n",
       "    }\n",
       "\n",
       "    .dataframe thead th {\n",
       "        text-align: right;\n",
       "    }\n",
       "</style>\n",
       "<table border=\"1\" class=\"dataframe\">\n",
       "  <thead>\n",
       "    <tr style=\"text-align: right;\">\n",
       "      <th></th>\n",
       "      <th>ID</th>\n",
       "      <th>Texto</th>\n",
       "    </tr>\n",
       "  </thead>\n",
       "  <tbody>\n",
       "    <tr>\n",
       "      <th>0</th>\n",
       "      <td>0</td>\n",
       "      <td>Cyclin-dependent kinases (CDKs) regulate a var...</td>\n",
       "    </tr>\n",
       "    <tr>\n",
       "      <th>1</th>\n",
       "      <td>1</td>\n",
       "      <td>Abstract Background  Non-small cell lung canc...</td>\n",
       "    </tr>\n",
       "    <tr>\n",
       "      <th>2</th>\n",
       "      <td>2</td>\n",
       "      <td>Abstract Background  Non-small cell lung canc...</td>\n",
       "    </tr>\n",
       "    <tr>\n",
       "      <th>3</th>\n",
       "      <td>3</td>\n",
       "      <td>Recent evidence has demonstrated that acquired...</td>\n",
       "    </tr>\n",
       "    <tr>\n",
       "      <th>4</th>\n",
       "      <td>4</td>\n",
       "      <td>Oncogenic mutations in the monomeric Casitas B...</td>\n",
       "    </tr>\n",
       "  </tbody>\n",
       "</table>\n",
       "</div>"
      ],
      "text/plain": [
       "   ID                                              Texto\n",
       "0   0  Cyclin-dependent kinases (CDKs) regulate a var...\n",
       "1   1   Abstract Background  Non-small cell lung canc...\n",
       "2   2   Abstract Background  Non-small cell lung canc...\n",
       "3   3  Recent evidence has demonstrated that acquired...\n",
       "4   4  Oncogenic mutations in the monomeric Casitas B..."
      ]
     },
     "execution_count": 7,
     "metadata": {},
     "output_type": "execute_result"
    }
   ],
   "source": [
    "# Visualizando os dados\n",
    "df_treino_texto.head()"
   ]
  },
  {
   "cell_type": "code",
   "execution_count": 8,
   "metadata": {},
   "outputs": [
    {
     "data": {
      "text/plain": [
       "(3321, 2)"
      ]
     },
     "execution_count": 8,
     "metadata": {},
     "output_type": "execute_result"
    }
   ],
   "source": [
    "# Shape dos dados\n",
    "df_treino_texto.shape"
   ]
  },
  {
   "cell_type": "code",
   "execution_count": 9,
   "metadata": {},
   "outputs": [
    {
     "data": {
      "text/plain": [
       "ID       0\n",
       "Texto    5\n",
       "dtype: int64"
      ]
     },
     "execution_count": 9,
     "metadata": {},
     "output_type": "execute_result"
    }
   ],
   "source": [
    "# Verificando se existem dados missing\n",
    "df_treino_texto.isnull().sum()"
   ]
  },
  {
   "cell_type": "markdown",
   "metadata": {},
   "source": [
    "### 1.3 - Merge dos Arquivos de Dados"
   ]
  },
  {
   "cell_type": "code",
   "execution_count": 10,
   "metadata": {},
   "outputs": [],
   "source": [
    "# Merge dos arquivos pelo ID\n",
    "df_treino = pd.merge(df_treino_variantes, df_treino_texto, on = 'ID', how = 'left')"
   ]
  },
  {
   "cell_type": "code",
   "execution_count": 11,
   "metadata": {},
   "outputs": [
    {
     "data": {
      "text/html": [
       "<div>\n",
       "<style scoped>\n",
       "    .dataframe tbody tr th:only-of-type {\n",
       "        vertical-align: middle;\n",
       "    }\n",
       "\n",
       "    .dataframe tbody tr th {\n",
       "        vertical-align: top;\n",
       "    }\n",
       "\n",
       "    .dataframe thead th {\n",
       "        text-align: right;\n",
       "    }\n",
       "</style>\n",
       "<table border=\"1\" class=\"dataframe\">\n",
       "  <thead>\n",
       "    <tr style=\"text-align: right;\">\n",
       "      <th></th>\n",
       "      <th>ID</th>\n",
       "      <th>Gene</th>\n",
       "      <th>Variation</th>\n",
       "      <th>Class</th>\n",
       "      <th>Texto</th>\n",
       "    </tr>\n",
       "  </thead>\n",
       "  <tbody>\n",
       "    <tr>\n",
       "      <th>0</th>\n",
       "      <td>0</td>\n",
       "      <td>FAM58A</td>\n",
       "      <td>Truncating Mutations</td>\n",
       "      <td>1</td>\n",
       "      <td>Cyclin-dependent kinases (CDKs) regulate a var...</td>\n",
       "    </tr>\n",
       "    <tr>\n",
       "      <th>1</th>\n",
       "      <td>1</td>\n",
       "      <td>CBL</td>\n",
       "      <td>W802*</td>\n",
       "      <td>2</td>\n",
       "      <td>Abstract Background  Non-small cell lung canc...</td>\n",
       "    </tr>\n",
       "    <tr>\n",
       "      <th>2</th>\n",
       "      <td>2</td>\n",
       "      <td>CBL</td>\n",
       "      <td>Q249E</td>\n",
       "      <td>2</td>\n",
       "      <td>Abstract Background  Non-small cell lung canc...</td>\n",
       "    </tr>\n",
       "    <tr>\n",
       "      <th>3</th>\n",
       "      <td>3</td>\n",
       "      <td>CBL</td>\n",
       "      <td>N454D</td>\n",
       "      <td>3</td>\n",
       "      <td>Recent evidence has demonstrated that acquired...</td>\n",
       "    </tr>\n",
       "    <tr>\n",
       "      <th>4</th>\n",
       "      <td>4</td>\n",
       "      <td>CBL</td>\n",
       "      <td>L399V</td>\n",
       "      <td>4</td>\n",
       "      <td>Oncogenic mutations in the monomeric Casitas B...</td>\n",
       "    </tr>\n",
       "  </tbody>\n",
       "</table>\n",
       "</div>"
      ],
      "text/plain": [
       "   ID    Gene             Variation  Class  \\\n",
       "0   0  FAM58A  Truncating Mutations      1   \n",
       "1   1     CBL                 W802*      2   \n",
       "2   2     CBL                 Q249E      2   \n",
       "3   3     CBL                 N454D      3   \n",
       "4   4     CBL                 L399V      4   \n",
       "\n",
       "                                               Texto  \n",
       "0  Cyclin-dependent kinases (CDKs) regulate a var...  \n",
       "1   Abstract Background  Non-small cell lung canc...  \n",
       "2   Abstract Background  Non-small cell lung canc...  \n",
       "3  Recent evidence has demonstrated that acquired...  \n",
       "4  Oncogenic mutations in the monomeric Casitas B...  "
      ]
     },
     "execution_count": 11,
     "metadata": {},
     "output_type": "execute_result"
    }
   ],
   "source": [
    "# Visualizando o merge dos dados de treino\n",
    "df_treino.head()"
   ]
  },
  {
   "cell_type": "code",
   "execution_count": 12,
   "metadata": {},
   "outputs": [
    {
     "data": {
      "text/plain": [
       "(3321, 5)"
      ]
     },
     "execution_count": 12,
     "metadata": {},
     "output_type": "execute_result"
    }
   ],
   "source": [
    "# Shape dos dados\n",
    "df_treino.shape"
   ]
  },
  {
   "cell_type": "code",
   "execution_count": 13,
   "metadata": {},
   "outputs": [
    {
     "data": {
      "text/plain": [
       "ID           0\n",
       "Gene         0\n",
       "Variation    0\n",
       "Class        0\n",
       "Texto        5\n",
       "dtype: int64"
      ]
     },
     "execution_count": 13,
     "metadata": {},
     "output_type": "execute_result"
    }
   ],
   "source": [
    "# Verificando se há dados missing após o merge\n",
    "df_treino.isnull().sum()"
   ]
  },
  {
   "cell_type": "code",
   "execution_count": 14,
   "metadata": {},
   "outputs": [
    {
     "data": {
      "text/html": [
       "<div>\n",
       "<style scoped>\n",
       "    .dataframe tbody tr th:only-of-type {\n",
       "        vertical-align: middle;\n",
       "    }\n",
       "\n",
       "    .dataframe tbody tr th {\n",
       "        vertical-align: top;\n",
       "    }\n",
       "\n",
       "    .dataframe thead th {\n",
       "        text-align: right;\n",
       "    }\n",
       "</style>\n",
       "<table border=\"1\" class=\"dataframe\">\n",
       "  <thead>\n",
       "    <tr style=\"text-align: right;\">\n",
       "      <th></th>\n",
       "      <th>ID</th>\n",
       "      <th>Gene</th>\n",
       "      <th>Variation</th>\n",
       "      <th>Class</th>\n",
       "      <th>Texto</th>\n",
       "    </tr>\n",
       "  </thead>\n",
       "  <tbody>\n",
       "    <tr>\n",
       "      <th>1109</th>\n",
       "      <td>1109</td>\n",
       "      <td>FANCA</td>\n",
       "      <td>S1088F</td>\n",
       "      <td>1</td>\n",
       "      <td>NaN</td>\n",
       "    </tr>\n",
       "    <tr>\n",
       "      <th>1277</th>\n",
       "      <td>1277</td>\n",
       "      <td>ARID5B</td>\n",
       "      <td>Truncating Mutations</td>\n",
       "      <td>1</td>\n",
       "      <td>NaN</td>\n",
       "    </tr>\n",
       "    <tr>\n",
       "      <th>1407</th>\n",
       "      <td>1407</td>\n",
       "      <td>FGFR3</td>\n",
       "      <td>K508M</td>\n",
       "      <td>6</td>\n",
       "      <td>NaN</td>\n",
       "    </tr>\n",
       "    <tr>\n",
       "      <th>1639</th>\n",
       "      <td>1639</td>\n",
       "      <td>FLT1</td>\n",
       "      <td>Amplification</td>\n",
       "      <td>6</td>\n",
       "      <td>NaN</td>\n",
       "    </tr>\n",
       "    <tr>\n",
       "      <th>2755</th>\n",
       "      <td>2755</td>\n",
       "      <td>BRAF</td>\n",
       "      <td>G596C</td>\n",
       "      <td>7</td>\n",
       "      <td>NaN</td>\n",
       "    </tr>\n",
       "  </tbody>\n",
       "</table>\n",
       "</div>"
      ],
      "text/plain": [
       "        ID    Gene             Variation  Class Texto\n",
       "1109  1109   FANCA                S1088F      1   NaN\n",
       "1277  1277  ARID5B  Truncating Mutations      1   NaN\n",
       "1407  1407   FGFR3                 K508M      6   NaN\n",
       "1639  1639    FLT1         Amplification      6   NaN\n",
       "2755  2755    BRAF                 G596C      7   NaN"
      ]
     },
     "execution_count": 14,
     "metadata": {},
     "output_type": "execute_result"
    }
   ],
   "source": [
    "# listando os dados missing (NaN)\n",
    "df_treino[df_treino.isnull().any(axis = 1)]"
   ]
  },
  {
   "cell_type": "code",
   "execution_count": 15,
   "metadata": {},
   "outputs": [
    {
     "data": {
      "text/plain": [
       "ID            int64\n",
       "Gene         object\n",
       "Variation    object\n",
       "Class         int64\n",
       "Texto        object\n",
       "dtype: object"
      ]
     },
     "execution_count": 15,
     "metadata": {},
     "output_type": "execute_result"
    }
   ],
   "source": [
    "# Tipo das variáveis\n",
    "df_treino.dtypes"
   ]
  },
  {
   "cell_type": "markdown",
   "metadata": {},
   "source": [
    "## 2 - Análise Exploratória dos Dados"
   ]
  },
  {
   "cell_type": "code",
   "execution_count": 16,
   "metadata": {},
   "outputs": [
    {
     "data": {
      "text/plain": [
       "BRCA1     264\n",
       "TP53      163\n",
       "EGFR      141\n",
       "PTEN      126\n",
       "BRCA2     125\n",
       "         ... \n",
       "TCF7L2      1\n",
       "SDHB        1\n",
       "CDK8        1\n",
       "RYBP        1\n",
       "FGF19       1\n",
       "Name: Gene, Length: 264, dtype: int64"
      ]
     },
     "execution_count": 16,
     "metadata": {},
     "output_type": "execute_result"
    }
   ],
   "source": [
    "# Contando o número de Genes\n",
    "# Verifica-se que o arquivo contém 264 tipos de Genes\n",
    "df_treino.Gene.value_counts()"
   ]
  },
  {
   "cell_type": "code",
   "execution_count": 17,
   "metadata": {},
   "outputs": [
    {
     "data": {
      "text/plain": [
       "264"
      ]
     },
     "execution_count": 17,
     "metadata": {},
     "output_type": "execute_result"
    }
   ],
   "source": [
    "# Verificando o total de valores únicos de Genes\n",
    "df_treino.Gene.nunique()"
   ]
  },
  {
   "cell_type": "code",
   "execution_count": 18,
   "metadata": {},
   "outputs": [
    {
     "data": {
      "image/png": "[encoded data removed]",
      "text/plain": [
       "<Figure size 432x288 with 1 Axes>"
      ]
     },
     "metadata": {
      "needs_background": "light"
     },
     "output_type": "display_data"
    }
   ],
   "source": [
    "# Gráfico dos top 10 Genes\n",
    "treino_ten_genes = df_treino['Gene'].value_counts().head(10)\n",
    "\n",
    "treino_ten_genes.plot(kind = 'bar', color = 'green')\n",
    "plt.xlabel('Genes')\n",
    "plt.title('Top 10 Genes')\n",
    "plt.show()"
   ]
  },
  {
   "cell_type": "code",
   "execution_count": 19,
   "metadata": {},
   "outputs": [
    {
     "data": {
      "text/plain": [
       "Truncating Mutations    93\n",
       "Deletion                74\n",
       "Amplification           71\n",
       "Fusions                 34\n",
       "Overexpression           6\n",
       "                        ..\n",
       "L57del                   1\n",
       "R201H                    1\n",
       "G199R                    1\n",
       "N553S                    1\n",
       "D3095E                   1\n",
       "Name: Variation, Length: 2996, dtype: int64"
      ]
     },
     "execution_count": 19,
     "metadata": {},
     "output_type": "execute_result"
    }
   ],
   "source": [
    "# Contando o número de variações \n",
    "# Verifica-se que o arquivo contém 2.996 tipos de variações\n",
    "df_treino['Variation'].value_counts()"
   ]
  },
  {
   "cell_type": "code",
   "execution_count": 20,
   "metadata": {},
   "outputs": [
    {
     "data": {
      "text/plain": [
       "2996"
      ]
     },
     "execution_count": 20,
     "metadata": {},
     "output_type": "execute_result"
    }
   ],
   "source": [
    "# Verificando o total de valores únicos de Variation\n",
    "df_treino.Variation.nunique()"
   ]
  },
  {
   "cell_type": "code",
   "execution_count": 21,
   "metadata": {},
   "outputs": [
    {
     "data": {
      "text/plain": [
       "Gene   Class\n",
       "ABL1   2        24\n",
       "       7         2\n",
       "ACVR1  7         2\n",
       "       2         1\n",
       "AGO2   1         4\n",
       "                ..\n",
       "XPO1   2         1\n",
       "       6         1\n",
       "XRCC2  1         2\n",
       "YAP1   2         3\n",
       "       7         1\n",
       "Name: Class, Length: 590, dtype: int64"
      ]
     },
     "execution_count": 21,
     "metadata": {},
     "output_type": "execute_result"
    }
   ],
   "source": [
    "# Contando a quantidade de Class (classificação da mutação genética) por Gene\n",
    "df_treino.groupby(by = ['Gene'])['Class'].value_counts()"
   ]
  },
  {
   "cell_type": "code",
   "execution_count": 22,
   "metadata": {},
   "outputs": [
    {
     "data": {
      "image/png": "[encoded data removed]",
      "text/plain": [
       "<Figure size 432x288 with 1 Axes>"
      ]
     },
     "metadata": {
      "needs_background": "light"
     },
     "output_type": "display_data"
    }
   ],
   "source": [
    "# Gráfico da distribuição de dados por tipo de Class\n",
    "treino_class = df_treino['Class'].value_counts().sort_index()\n",
    "\n",
    "treino_class.plot(kind = 'bar')\n",
    "plt.xlabel('Class')\n",
    "plt.title('Distribuição por tipo de Classe de Mutação Genética')\n",
    "plt.show()"
   ]
  },
  {
   "cell_type": "markdown",
   "metadata": {},
   "source": [
    "De acordo com o gráfico acima da distribuição de classe, verificamos que variável Class é desbalanceada (as classes 7, 4, 1 e 2 concentram mais observações do que as demais)."
   ]
  },
  {
   "cell_type": "markdown",
   "metadata": {},
   "source": [
    "## 3 - Pré-Processamento dos Dados"
   ]
  },
  {
   "cell_type": "markdown",
   "metadata": {},
   "source": [
    "### 3.1 - Preparando o Texto (Tokenization, Lemmatization, remoção de Pontuação e Stopwords)"
   ]
  },
  {
   "cell_type": "code",
   "execution_count": 23,
   "metadata": {},
   "outputs": [
    {
     "name": "stderr",
     "output_type": "stream",
     "text": [
      "Using TensorFlow backend.\n"
     ]
    }
   ],
   "source": [
    "# Importando pacotes de PLN (Processamento de Linguagem Natural)\n",
    "\n",
    "import re\n",
    "import nltk\n",
    "import spacy\n",
    "import string\n",
    "from nltk.corpus import stopwords\n",
    "from keras.preprocessing.text import Tokenizer\n",
    "from keras.preprocessing.sequence import pad_sequences\n",
    "from keras.utils.np_utils import to_categorical\n",
    "from datetime import datetime\n",
    "\n",
    "import warnings\n",
    "warnings.filterwarnings(action = \"ignore\", category = FutureWarning)\n",
    "# warnings.filterwarnings(\"ignore\", category = DeprecationWarning)"
   ]
  },
  {
   "cell_type": "code",
   "execution_count": 24,
   "metadata": {},
   "outputs": [],
   "source": [
    "# Converte Texto para o tipo string\n",
    "df_treino['Texto'] = df_treino['Texto'].astype('str')"
   ]
  },
  {
   "cell_type": "code",
   "execution_count": 25,
   "metadata": {},
   "outputs": [],
   "source": [
    "# Função para remover caracteres non-ascii\n",
    "def removeNoAscii(s):\n",
    "    return \"\".join(i for i in s if ord(i) < 128)"
   ]
  },
  {
   "cell_type": "code",
   "execution_count": 26,
   "metadata": {},
   "outputs": [],
   "source": [
    "# Remove caracteres non-ascii\n",
    "df_treino['Texto'] = df_treino['Texto'].map(lambda x: removeNoAscii(x))"
   ]
  },
  {
   "cell_type": "code",
   "execution_count": 27,
   "metadata": {},
   "outputs": [],
   "source": [
    "# Carrega o dicionário em Inglês na sessão SpaCy\n",
    "nlp = spacy.load('en_core_web_sm')"
   ]
  },
  {
   "cell_type": "code",
   "execution_count": 28,
   "metadata": {},
   "outputs": [],
   "source": [
    "# Função para remover pontuação e lematizar\n",
    "def limpa_texto(text):\n",
    "    \n",
    "    # Remove pontuação usando expressão regular\n",
    "    regex = re.compile('[' + re.escape(string.punctuation) + '\\\\r\\\\t\\\\n]')\n",
    "    nopunct = regex.sub(\" \", str(text))\n",
    "    \n",
    "    # Usa o SpaCy para lematização\n",
    "    doc = nlp(nopunct, disable = ['parser', 'ner'])\n",
    "    lemma = [token.lemma_ for token in doc]\n",
    "    return lemma"
   ]
  },
  {
   "cell_type": "code",
   "execution_count": 29,
   "metadata": {},
   "outputs": [
    {
     "name": "stdout",
     "output_type": "stream",
     "text": [
      "Tempo Total para Limpar o Texto : 0:36:32.396982\n"
     ]
    }
   ],
   "source": [
    "# Aplica a função\n",
    "start = datetime.now()\n",
    "df_treino['Texto'] = df_treino['Texto'].map(limpa_texto)\n",
    "print('Tempo Total para Limpar o Texto :', datetime.now() - start)"
   ]
  },
  {
   "cell_type": "code",
   "execution_count": 30,
   "metadata": {},
   "outputs": [],
   "source": [
    "# Transforma o Texto em minúsculo\n",
    "df_treino['Texto'] = df_treino['Texto'].map(lambda x: [word.lower() for word in x])"
   ]
  },
  {
   "cell_type": "code",
   "execution_count": 31,
   "metadata": {},
   "outputs": [
    {
     "data": {
      "text/html": [
       "<div>\n",
       "<style scoped>\n",
       "    .dataframe tbody tr th:only-of-type {\n",
       "        vertical-align: middle;\n",
       "    }\n",
       "\n",
       "    .dataframe tbody tr th {\n",
       "        vertical-align: top;\n",
       "    }\n",
       "\n",
       "    .dataframe thead th {\n",
       "        text-align: right;\n",
       "    }\n",
       "</style>\n",
       "<table border=\"1\" class=\"dataframe\">\n",
       "  <thead>\n",
       "    <tr style=\"text-align: right;\">\n",
       "      <th></th>\n",
       "      <th>ID</th>\n",
       "      <th>Gene</th>\n",
       "      <th>Variation</th>\n",
       "      <th>Class</th>\n",
       "      <th>Texto</th>\n",
       "    </tr>\n",
       "  </thead>\n",
       "  <tbody>\n",
       "    <tr>\n",
       "      <th>0</th>\n",
       "      <td>0</td>\n",
       "      <td>FAM58A</td>\n",
       "      <td>Truncating Mutations</td>\n",
       "      <td>1</td>\n",
       "      <td>[cyclin, dependent, kinase,  , cdk,  , regulat...</td>\n",
       "    </tr>\n",
       "    <tr>\n",
       "      <th>1</th>\n",
       "      <td>1</td>\n",
       "      <td>CBL</td>\n",
       "      <td>W802*</td>\n",
       "      <td>2</td>\n",
       "      <td>[ , abstract, background,  , non, small, cell,...</td>\n",
       "    </tr>\n",
       "    <tr>\n",
       "      <th>2</th>\n",
       "      <td>2</td>\n",
       "      <td>CBL</td>\n",
       "      <td>Q249E</td>\n",
       "      <td>2</td>\n",
       "      <td>[ , abstract, background,  , non, small, cell,...</td>\n",
       "    </tr>\n",
       "    <tr>\n",
       "      <th>3</th>\n",
       "      <td>3</td>\n",
       "      <td>CBL</td>\n",
       "      <td>N454D</td>\n",
       "      <td>3</td>\n",
       "      <td>[recent, evidence, have, demonstrate, that, ac...</td>\n",
       "    </tr>\n",
       "    <tr>\n",
       "      <th>4</th>\n",
       "      <td>4</td>\n",
       "      <td>CBL</td>\n",
       "      <td>L399V</td>\n",
       "      <td>4</td>\n",
       "      <td>[oncogenic, mutation, in, the, monomeric, casi...</td>\n",
       "    </tr>\n",
       "  </tbody>\n",
       "</table>\n",
       "</div>"
      ],
      "text/plain": [
       "   ID    Gene             Variation  Class  \\\n",
       "0   0  FAM58A  Truncating Mutations      1   \n",
       "1   1     CBL                 W802*      2   \n",
       "2   2     CBL                 Q249E      2   \n",
       "3   3     CBL                 N454D      3   \n",
       "4   4     CBL                 L399V      4   \n",
       "\n",
       "                                               Texto  \n",
       "0  [cyclin, dependent, kinase,  , cdk,  , regulat...  \n",
       "1  [ , abstract, background,  , non, small, cell,...  \n",
       "2  [ , abstract, background,  , non, small, cell,...  \n",
       "3  [recent, evidence, have, demonstrate, that, ac...  \n",
       "4  [oncogenic, mutation, in, the, monomeric, casi...  "
      ]
     },
     "execution_count": 31,
     "metadata": {},
     "output_type": "execute_result"
    }
   ],
   "source": [
    "df_treino.head()"
   ]
  },
  {
   "cell_type": "code",
   "execution_count": 32,
   "metadata": {},
   "outputs": [],
   "source": [
    "# Função para remover stopwords\n",
    "english_stops = set(stopwords.words('english'))\n",
    "\n",
    "def remove_stopwords(text):\n",
    "    return [word for word in text if word not in english_stops]"
   ]
  },
  {
   "cell_type": "code",
   "execution_count": 33,
   "metadata": {},
   "outputs": [],
   "source": [
    "# Aplica a função para remover stopwords do texto\n",
    "df_treino['Texto'] = df_treino['Texto'].map(lambda x: remove_stopwords(x))"
   ]
  },
  {
   "cell_type": "code",
   "execution_count": 34,
   "metadata": {},
   "outputs": [
    {
     "data": {
      "text/html": [
       "<div>\n",
       "<style scoped>\n",
       "    .dataframe tbody tr th:only-of-type {\n",
       "        vertical-align: middle;\n",
       "    }\n",
       "\n",
       "    .dataframe tbody tr th {\n",
       "        vertical-align: top;\n",
       "    }\n",
       "\n",
       "    .dataframe thead th {\n",
       "        text-align: right;\n",
       "    }\n",
       "</style>\n",
       "<table border=\"1\" class=\"dataframe\">\n",
       "  <thead>\n",
       "    <tr style=\"text-align: right;\">\n",
       "      <th></th>\n",
       "      <th>ID</th>\n",
       "      <th>Gene</th>\n",
       "      <th>Variation</th>\n",
       "      <th>Class</th>\n",
       "      <th>Texto</th>\n",
       "    </tr>\n",
       "  </thead>\n",
       "  <tbody>\n",
       "    <tr>\n",
       "      <th>0</th>\n",
       "      <td>0</td>\n",
       "      <td>FAM58A</td>\n",
       "      <td>Truncating Mutations</td>\n",
       "      <td>1</td>\n",
       "      <td>[cyclin, dependent, kinase,  , cdk,  , regulat...</td>\n",
       "    </tr>\n",
       "    <tr>\n",
       "      <th>1</th>\n",
       "      <td>1</td>\n",
       "      <td>CBL</td>\n",
       "      <td>W802*</td>\n",
       "      <td>2</td>\n",
       "      <td>[ , abstract, background,  , non, small, cell,...</td>\n",
       "    </tr>\n",
       "    <tr>\n",
       "      <th>2</th>\n",
       "      <td>2</td>\n",
       "      <td>CBL</td>\n",
       "      <td>Q249E</td>\n",
       "      <td>2</td>\n",
       "      <td>[ , abstract, background,  , non, small, cell,...</td>\n",
       "    </tr>\n",
       "    <tr>\n",
       "      <th>3</th>\n",
       "      <td>3</td>\n",
       "      <td>CBL</td>\n",
       "      <td>N454D</td>\n",
       "      <td>3</td>\n",
       "      <td>[recent, evidence, demonstrate, acquire, unipa...</td>\n",
       "    </tr>\n",
       "    <tr>\n",
       "      <th>4</th>\n",
       "      <td>4</td>\n",
       "      <td>CBL</td>\n",
       "      <td>L399V</td>\n",
       "      <td>4</td>\n",
       "      <td>[oncogenic, mutation, monomeric, casitas, b, l...</td>\n",
       "    </tr>\n",
       "  </tbody>\n",
       "</table>\n",
       "</div>"
      ],
      "text/plain": [
       "   ID    Gene             Variation  Class  \\\n",
       "0   0  FAM58A  Truncating Mutations      1   \n",
       "1   1     CBL                 W802*      2   \n",
       "2   2     CBL                 Q249E      2   \n",
       "3   3     CBL                 N454D      3   \n",
       "4   4     CBL                 L399V      4   \n",
       "\n",
       "                                               Texto  \n",
       "0  [cyclin, dependent, kinase,  , cdk,  , regulat...  \n",
       "1  [ , abstract, background,  , non, small, cell,...  \n",
       "2  [ , abstract, background,  , non, small, cell,...  \n",
       "3  [recent, evidence, demonstrate, acquire, unipa...  \n",
       "4  [oncogenic, mutation, monomeric, casitas, b, l...  "
      ]
     },
     "execution_count": 34,
     "metadata": {},
     "output_type": "execute_result"
    }
   ],
   "source": [
    "df_treino.head()"
   ]
  },
  {
   "cell_type": "code",
   "execution_count": 35,
   "metadata": {},
   "outputs": [],
   "source": [
    "# Função para remover espaços em branco\n",
    "def remove_espaco(text):\n",
    "    return [word for word in text if word != \" \"]"
   ]
  },
  {
   "cell_type": "code",
   "execution_count": 36,
   "metadata": {},
   "outputs": [],
   "source": [
    "# Aplica a função para remover espaços em branco do texto\n",
    "df_treino['Texto'] = df_treino['Texto'].map(lambda x: remove_espaco(x))"
   ]
  },
  {
   "cell_type": "code",
   "execution_count": 37,
   "metadata": {},
   "outputs": [
    {
     "data": {
      "text/html": [
       "<div>\n",
       "<style scoped>\n",
       "    .dataframe tbody tr th:only-of-type {\n",
       "        vertical-align: middle;\n",
       "    }\n",
       "\n",
       "    .dataframe tbody tr th {\n",
       "        vertical-align: top;\n",
       "    }\n",
       "\n",
       "    .dataframe thead th {\n",
       "        text-align: right;\n",
       "    }\n",
       "</style>\n",
       "<table border=\"1\" class=\"dataframe\">\n",
       "  <thead>\n",
       "    <tr style=\"text-align: right;\">\n",
       "      <th></th>\n",
       "      <th>ID</th>\n",
       "      <th>Gene</th>\n",
       "      <th>Variation</th>\n",
       "      <th>Class</th>\n",
       "      <th>Texto</th>\n",
       "    </tr>\n",
       "  </thead>\n",
       "  <tbody>\n",
       "    <tr>\n",
       "      <th>0</th>\n",
       "      <td>0</td>\n",
       "      <td>FAM58A</td>\n",
       "      <td>Truncating Mutations</td>\n",
       "      <td>1</td>\n",
       "      <td>[cyclin, dependent, kinase, cdk, regulate, var...</td>\n",
       "    </tr>\n",
       "    <tr>\n",
       "      <th>1</th>\n",
       "      <td>1</td>\n",
       "      <td>CBL</td>\n",
       "      <td>W802*</td>\n",
       "      <td>2</td>\n",
       "      <td>[abstract, background, non, small, cell, lung,...</td>\n",
       "    </tr>\n",
       "    <tr>\n",
       "      <th>2</th>\n",
       "      <td>2</td>\n",
       "      <td>CBL</td>\n",
       "      <td>Q249E</td>\n",
       "      <td>2</td>\n",
       "      <td>[abstract, background, non, small, cell, lung,...</td>\n",
       "    </tr>\n",
       "    <tr>\n",
       "      <th>3</th>\n",
       "      <td>3</td>\n",
       "      <td>CBL</td>\n",
       "      <td>N454D</td>\n",
       "      <td>3</td>\n",
       "      <td>[recent, evidence, demonstrate, acquire, unipa...</td>\n",
       "    </tr>\n",
       "    <tr>\n",
       "      <th>4</th>\n",
       "      <td>4</td>\n",
       "      <td>CBL</td>\n",
       "      <td>L399V</td>\n",
       "      <td>4</td>\n",
       "      <td>[oncogenic, mutation, monomeric, casitas, b, l...</td>\n",
       "    </tr>\n",
       "  </tbody>\n",
       "</table>\n",
       "</div>"
      ],
      "text/plain": [
       "   ID    Gene             Variation  Class  \\\n",
       "0   0  FAM58A  Truncating Mutations      1   \n",
       "1   1     CBL                 W802*      2   \n",
       "2   2     CBL                 Q249E      2   \n",
       "3   3     CBL                 N454D      3   \n",
       "4   4     CBL                 L399V      4   \n",
       "\n",
       "                                               Texto  \n",
       "0  [cyclin, dependent, kinase, cdk, regulate, var...  \n",
       "1  [abstract, background, non, small, cell, lung,...  \n",
       "2  [abstract, background, non, small, cell, lung,...  \n",
       "3  [recent, evidence, demonstrate, acquire, unipa...  \n",
       "4  [oncogenic, mutation, monomeric, casitas, b, l...  "
      ]
     },
     "execution_count": 37,
     "metadata": {},
     "output_type": "execute_result"
    }
   ],
   "source": [
    "df_treino.head()"
   ]
  },
  {
   "cell_type": "code",
   "execution_count": 38,
   "metadata": {},
   "outputs": [],
   "source": [
    "# Converte a lista de Texto para string\n",
    "df_treino['Texto'] = df_treino['Texto'].astype(str)"
   ]
  },
  {
   "cell_type": "code",
   "execution_count": 39,
   "metadata": {},
   "outputs": [
    {
     "data": {
      "text/html": [
       "<div>\n",
       "<style scoped>\n",
       "    .dataframe tbody tr th:only-of-type {\n",
       "        vertical-align: middle;\n",
       "    }\n",
       "\n",
       "    .dataframe tbody tr th {\n",
       "        vertical-align: top;\n",
       "    }\n",
       "\n",
       "    .dataframe thead th {\n",
       "        text-align: right;\n",
       "    }\n",
       "</style>\n",
       "<table border=\"1\" class=\"dataframe\">\n",
       "  <thead>\n",
       "    <tr style=\"text-align: right;\">\n",
       "      <th></th>\n",
       "      <th>ID</th>\n",
       "      <th>Gene</th>\n",
       "      <th>Variation</th>\n",
       "      <th>Class</th>\n",
       "      <th>Texto</th>\n",
       "    </tr>\n",
       "  </thead>\n",
       "  <tbody>\n",
       "    <tr>\n",
       "      <th>0</th>\n",
       "      <td>0</td>\n",
       "      <td>FAM58A</td>\n",
       "      <td>Truncating Mutations</td>\n",
       "      <td>1</td>\n",
       "      <td>['cyclin', 'dependent', 'kinase', 'cdk', 'regu...</td>\n",
       "    </tr>\n",
       "    <tr>\n",
       "      <th>1</th>\n",
       "      <td>1</td>\n",
       "      <td>CBL</td>\n",
       "      <td>W802*</td>\n",
       "      <td>2</td>\n",
       "      <td>['abstract', 'background', 'non', 'small', 'ce...</td>\n",
       "    </tr>\n",
       "    <tr>\n",
       "      <th>2</th>\n",
       "      <td>2</td>\n",
       "      <td>CBL</td>\n",
       "      <td>Q249E</td>\n",
       "      <td>2</td>\n",
       "      <td>['abstract', 'background', 'non', 'small', 'ce...</td>\n",
       "    </tr>\n",
       "    <tr>\n",
       "      <th>3</th>\n",
       "      <td>3</td>\n",
       "      <td>CBL</td>\n",
       "      <td>N454D</td>\n",
       "      <td>3</td>\n",
       "      <td>['recent', 'evidence', 'demonstrate', 'acquire...</td>\n",
       "    </tr>\n",
       "    <tr>\n",
       "      <th>4</th>\n",
       "      <td>4</td>\n",
       "      <td>CBL</td>\n",
       "      <td>L399V</td>\n",
       "      <td>4</td>\n",
       "      <td>['oncogenic', 'mutation', 'monomeric', 'casita...</td>\n",
       "    </tr>\n",
       "  </tbody>\n",
       "</table>\n",
       "</div>"
      ],
      "text/plain": [
       "   ID    Gene             Variation  Class  \\\n",
       "0   0  FAM58A  Truncating Mutations      1   \n",
       "1   1     CBL                 W802*      2   \n",
       "2   2     CBL                 Q249E      2   \n",
       "3   3     CBL                 N454D      3   \n",
       "4   4     CBL                 L399V      4   \n",
       "\n",
       "                                               Texto  \n",
       "0  ['cyclin', 'dependent', 'kinase', 'cdk', 'regu...  \n",
       "1  ['abstract', 'background', 'non', 'small', 'ce...  \n",
       "2  ['abstract', 'background', 'non', 'small', 'ce...  \n",
       "3  ['recent', 'evidence', 'demonstrate', 'acquire...  \n",
       "4  ['oncogenic', 'mutation', 'monomeric', 'casita...  "
      ]
     },
     "execution_count": 39,
     "metadata": {},
     "output_type": "execute_result"
    }
   ],
   "source": [
    "df_treino.head()"
   ]
  },
  {
   "cell_type": "code",
   "execution_count": 40,
   "metadata": {},
   "outputs": [],
   "source": [
    "# Join das variáveis preditoras\n",
    "df_treino['GenVarText'] = df_treino[['Gene', 'Variation','Texto']].apply(lambda x: \" \".join(x), axis=1)"
   ]
  },
  {
   "cell_type": "code",
   "execution_count": 41,
   "metadata": {},
   "outputs": [],
   "source": [
    "# Cria objeto tokenizer\n",
    "num_max_words = 2000\n",
    "tokenizer = Tokenizer(num_words = num_max_words)"
   ]
  },
  {
   "cell_type": "code",
   "execution_count": 42,
   "metadata": {},
   "outputs": [
    {
     "data": {
      "text/html": [
       "<div>\n",
       "<style scoped>\n",
       "    .dataframe tbody tr th:only-of-type {\n",
       "        vertical-align: middle;\n",
       "    }\n",
       "\n",
       "    .dataframe tbody tr th {\n",
       "        vertical-align: top;\n",
       "    }\n",
       "\n",
       "    .dataframe thead th {\n",
       "        text-align: right;\n",
       "    }\n",
       "</style>\n",
       "<table border=\"1\" class=\"dataframe\">\n",
       "  <thead>\n",
       "    <tr style=\"text-align: right;\">\n",
       "      <th></th>\n",
       "      <th>ID</th>\n",
       "      <th>Gene</th>\n",
       "      <th>Variation</th>\n",
       "      <th>Class</th>\n",
       "      <th>Texto</th>\n",
       "      <th>GenVarText</th>\n",
       "    </tr>\n",
       "  </thead>\n",
       "  <tbody>\n",
       "    <tr>\n",
       "      <th>0</th>\n",
       "      <td>0</td>\n",
       "      <td>FAM58A</td>\n",
       "      <td>Truncating Mutations</td>\n",
       "      <td>1</td>\n",
       "      <td>['cyclin', 'dependent', 'kinase', 'cdk', 'regu...</td>\n",
       "      <td>FAM58A Truncating Mutations ['cyclin', 'depend...</td>\n",
       "    </tr>\n",
       "    <tr>\n",
       "      <th>1</th>\n",
       "      <td>1</td>\n",
       "      <td>CBL</td>\n",
       "      <td>W802*</td>\n",
       "      <td>2</td>\n",
       "      <td>['abstract', 'background', 'non', 'small', 'ce...</td>\n",
       "      <td>CBL W802* ['abstract', 'background', 'non', 's...</td>\n",
       "    </tr>\n",
       "    <tr>\n",
       "      <th>2</th>\n",
       "      <td>2</td>\n",
       "      <td>CBL</td>\n",
       "      <td>Q249E</td>\n",
       "      <td>2</td>\n",
       "      <td>['abstract', 'background', 'non', 'small', 'ce...</td>\n",
       "      <td>CBL Q249E ['abstract', 'background', 'non', 's...</td>\n",
       "    </tr>\n",
       "    <tr>\n",
       "      <th>3</th>\n",
       "      <td>3</td>\n",
       "      <td>CBL</td>\n",
       "      <td>N454D</td>\n",
       "      <td>3</td>\n",
       "      <td>['recent', 'evidence', 'demonstrate', 'acquire...</td>\n",
       "      <td>CBL N454D ['recent', 'evidence', 'demonstrate'...</td>\n",
       "    </tr>\n",
       "    <tr>\n",
       "      <th>4</th>\n",
       "      <td>4</td>\n",
       "      <td>CBL</td>\n",
       "      <td>L399V</td>\n",
       "      <td>4</td>\n",
       "      <td>['oncogenic', 'mutation', 'monomeric', 'casita...</td>\n",
       "      <td>CBL L399V ['oncogenic', 'mutation', 'monomeric...</td>\n",
       "    </tr>\n",
       "  </tbody>\n",
       "</table>\n",
       "</div>"
      ],
      "text/plain": [
       "   ID    Gene             Variation  Class  \\\n",
       "0   0  FAM58A  Truncating Mutations      1   \n",
       "1   1     CBL                 W802*      2   \n",
       "2   2     CBL                 Q249E      2   \n",
       "3   3     CBL                 N454D      3   \n",
       "4   4     CBL                 L399V      4   \n",
       "\n",
       "                                               Texto  \\\n",
       "0  ['cyclin', 'dependent', 'kinase', 'cdk', 'regu...   \n",
       "1  ['abstract', 'background', 'non', 'small', 'ce...   \n",
       "2  ['abstract', 'background', 'non', 'small', 'ce...   \n",
       "3  ['recent', 'evidence', 'demonstrate', 'acquire...   \n",
       "4  ['oncogenic', 'mutation', 'monomeric', 'casita...   \n",
       "\n",
       "                                          GenVarText  \n",
       "0  FAM58A Truncating Mutations ['cyclin', 'depend...  \n",
       "1  CBL W802* ['abstract', 'background', 'non', 's...  \n",
       "2  CBL Q249E ['abstract', 'background', 'non', 's...  \n",
       "3  CBL N454D ['recent', 'evidence', 'demonstrate'...  \n",
       "4  CBL L399V ['oncogenic', 'mutation', 'monomeric...  "
      ]
     },
     "execution_count": 42,
     "metadata": {},
     "output_type": "execute_result"
    }
   ],
   "source": [
    "df_treino.head()"
   ]
  },
  {
   "cell_type": "code",
   "execution_count": 43,
   "metadata": {},
   "outputs": [
    {
     "data": {
      "text/plain": [
       "False"
      ]
     },
     "execution_count": 43,
     "metadata": {},
     "output_type": "execute_result"
    }
   ],
   "source": [
    "# Conferindo se ainda há valores missing\n",
    "df_treino['GenVarText'].isnull().any()"
   ]
  },
  {
   "cell_type": "code",
   "execution_count": 44,
   "metadata": {},
   "outputs": [],
   "source": [
    "# Tokenizer\n",
    "tokenizer.fit_on_texts(df_treino['GenVarText'].values)"
   ]
  },
  {
   "cell_type": "code",
   "execution_count": 45,
   "metadata": {},
   "outputs": [],
   "source": [
    "# Converte para sequência\n",
    "sequencia_treino = tokenizer.texts_to_sequences(df_treino['GenVarText'].values)"
   ]
  },
  {
   "cell_type": "code",
   "execution_count": 46,
   "metadata": {},
   "outputs": [],
   "source": [
    "# Preenche a sequência\n",
    "X = pad_sequences(sequencia_treino, maxlen = num_max_words)"
   ]
  },
  {
   "cell_type": "code",
   "execution_count": 47,
   "metadata": {},
   "outputs": [
    {
     "data": {
      "text/plain": [
       "(3321, 2000)"
      ]
     },
     "execution_count": 47,
     "metadata": {},
     "output_type": "execute_result"
    }
   ],
   "source": [
    "X.shape"
   ]
  },
  {
   "cell_type": "markdown",
   "metadata": {},
   "source": [
    "### 3.2 - Divisão dos Dados em Treino e Teste"
   ]
  },
  {
   "cell_type": "code",
   "execution_count": 48,
   "metadata": {},
   "outputs": [],
   "source": [
    "# Importando módulo do SKlearn\n",
    "from sklearn.model_selection import train_test_split"
   ]
  },
  {
   "cell_type": "code",
   "execution_count": 49,
   "metadata": {},
   "outputs": [],
   "source": [
    "# Cria variável dummy target (Class)\n",
    "y = pd.get_dummies(df_treino['Class']).values"
   ]
  },
  {
   "cell_type": "code",
   "execution_count": 50,
   "metadata": {},
   "outputs": [
    {
     "data": {
      "text/plain": [
       "(3321, 9)"
      ]
     },
     "execution_count": 50,
     "metadata": {},
     "output_type": "execute_result"
    }
   ],
   "source": [
    "y.shape"
   ]
  },
  {
   "cell_type": "code",
   "execution_count": 51,
   "metadata": {},
   "outputs": [],
   "source": [
    "# Dividindo os dados em treino e teste\n",
    "X_treino, X_teste, y_treino, y_teste = train_test_split(X, y, test_size = 0.1, shuffle = True, random_state = 5)"
   ]
  },
  {
   "cell_type": "code",
   "execution_count": 52,
   "metadata": {},
   "outputs": [
    {
     "name": "stdout",
     "output_type": "stream",
     "text": [
      "(2988, 2000)\n",
      "(2988, 9)\n"
     ]
    }
   ],
   "source": [
    "# Shape dos dados de treino\n",
    "print(X_treino.shape)\n",
    "print(y_treino.shape)"
   ]
  },
  {
   "cell_type": "code",
   "execution_count": 53,
   "metadata": {},
   "outputs": [
    {
     "name": "stdout",
     "output_type": "stream",
     "text": [
      "(333, 2000)\n",
      "(333, 9)\n"
     ]
    }
   ],
   "source": [
    "# Shape dos dados de teste\n",
    "print(X_teste.shape)\n",
    "print(y_teste.shape)"
   ]
  },
  {
   "cell_type": "markdown",
   "metadata": {},
   "source": [
    "## 4 - Construção do Modelo de Deep Learning"
   ]
  },
  {
   "cell_type": "code",
   "execution_count": 54,
   "metadata": {},
   "outputs": [],
   "source": [
    "# Importando pacotes do Keras\n",
    "\n",
    "import keras\n",
    "from keras.models import Sequential\n",
    "from keras.layers import Embedding\n",
    "from keras.layers import Dense, Dropout, LSTM, SpatialDropout1D\n",
    "from keras.optimizers import Adam\n",
    "from keras.callbacks import ModelCheckpoint\n",
    "from keras.models import load_model\n",
    "\n",
    "import warnings\n",
    "# warnings.filterwarnings(\"ignore\")\n",
    "warnings.filterwarnings(action = \"ignore\", category = FutureWarning)\n",
    "warnings.filterwarnings(action = \"ignore\", category = DeprecationWarning)"
   ]
  },
  {
   "cell_type": "markdown",
   "metadata": {},
   "source": [
    "### Modelo de Rede Neural LSTM (Long Short Term Memory)"
   ]
  },
  {
   "cell_type": "code",
   "execution_count": 56,
   "metadata": {},
   "outputs": [
    {
     "name": "stdout",
     "output_type": "stream",
     "text": [
      "_________________________________________________________________\n",
      "Layer (type)                 Output Shape              Param #   \n",
      "=================================================================\n",
      "embedding_2 (Embedding)      (None, 2000, 128)         256000    \n",
      "_________________________________________________________________\n",
      "spatial_dropout1d_2 (Spatial (None, 2000, 128)         0         \n",
      "_________________________________________________________________\n",
      "lstm_2 (LSTM)                (None, 196)               254800    \n",
      "_________________________________________________________________\n",
      "dense_3 (Dense)              (None, 196)               38612     \n",
      "_________________________________________________________________\n",
      "dropout_2 (Dropout)          (None, 196)               0         \n",
      "_________________________________________________________________\n",
      "dense_4 (Dense)              (None, 9)                 1773      \n",
      "=================================================================\n",
      "Total params: 551,185\n",
      "Trainable params: 551,185\n",
      "Non-trainable params: 0\n",
      "_________________________________________________________________\n",
      "None\n"
     ]
    }
   ],
   "source": [
    "# Modelo LSTM \n",
    "\n",
    "# Cria o objeto sequencial\n",
    "modelo_lstm = Sequential()\n",
    "\n",
    "# Primeira camada para receber os dados de entrada\n",
    "modelo_lstm.add(Embedding(input_dim = num_max_words, output_dim = 128, input_length = X.shape[1]))\n",
    "modelo_lstm.add(SpatialDropout1D(0.3))\n",
    "\n",
    "# Segunda camada de LSTM\n",
    "modelo_lstm.add(LSTM(196, dropout = 0.3, recurrent_dropout = 0.3))\n",
    "\n",
    "# Terceira camada oculta com ativação ReLu\n",
    "modelo_lstm.add(Dense(196, activation = 'relu'))\n",
    "\n",
    "# Dropout para evitar Overfitting\n",
    "modelo_lstm.add(Dropout(0.3))\n",
    "\n",
    "# Última camada com ativação Softmax\n",
    "modelo_lstm.add(Dense(9, activation = 'softmax'))\n",
    "\n",
    "print(modelo_lstm.summary())"
   ]
  },
  {
   "cell_type": "code",
   "execution_count": 57,
   "metadata": {},
   "outputs": [],
   "source": [
    "# Compilando o modelo com a função de perda de entropia cruzada, otimizador Adam (utiliza o gradiente descendente)\n",
    "# e a métrica acurácia. \n",
    "\n",
    "modelo_lstm.compile(loss = 'categorical_crossentropy', optimizer = 'adam', metrics = ['accuracy'])"
   ]
  },
  {
   "cell_type": "code",
   "execution_count": 58,
   "metadata": {},
   "outputs": [],
   "source": [
    "# Salvando modelo callback\n",
    "ckpt_callback = ModelCheckpoint('keras_model', \n",
    "                                 monitor='val_acc', \n",
    "                                 verbose=1, \n",
    "                                 save_best_only=True, \n",
    "                                 mode='max')"
   ]
  },
  {
   "cell_type": "code",
   "execution_count": 59,
   "metadata": {},
   "outputs": [],
   "source": [
    "# Hiperparâmetros\n",
    "epochs = 8\n",
    "batch_size = 32"
   ]
  },
  {
   "cell_type": "markdown",
   "metadata": {},
   "source": [
    "O treinamento ocorre através de épocas (epochs) e cada época é dividida em lotes (batch), onde uma época é uma passagem por todas as linhas do conjunto de dados de treinamento e um lote é composto de uma ou mais amostras consideradas pelo modelo em uma época antes que seja feita a atualização dos pesos."
   ]
  },
  {
   "cell_type": "code",
   "execution_count": 60,
   "metadata": {},
   "outputs": [
    {
     "name": "stdout",
     "output_type": "stream",
     "text": [
      "WARNING:tensorflow:From C:\\Users\\Rbarbosa\\Anaconda3\\lib\\site-packages\\tensorflow\\python\\ops\\math_ops.py:3066: to_int32 (from tensorflow.python.ops.math_ops) is deprecated and will be removed in a future version.\n",
      "Instructions for updating:\n",
      "Use tf.cast instead.\n",
      "Train on 2390 samples, validate on 598 samples\n",
      "Epoch 1/8\n",
      "2368/2390 [============================>.] - ETA: 3s - loss: 1.9027 - acc: 0.2863Epoch 00001: val_acc improved from -inf to 0.42642, saving model to keras_model\n",
      "2390/2390 [==============================] - 383s 160ms/step - loss: 1.9027 - acc: 0.2862 - val_loss: 1.7698 - val_acc: 0.4264\n",
      "Epoch 2/8\n",
      "2368/2390 [============================>.] - ETA: 3s - loss: 1.5241 - acc: 0.4383Epoch 00002: val_acc improved from 0.42642 to 0.49666, saving model to keras_model\n",
      "2390/2390 [==============================] - 395s 165ms/step - loss: 1.5193 - acc: 0.4406 - val_loss: 1.4025 - val_acc: 0.4967\n",
      "Epoch 3/8\n",
      "2368/2390 [============================>.] - ETA: 3s - loss: 1.2351 - acc: 0.5342Epoch 00003: val_acc improved from 0.49666 to 0.52007, saving model to keras_model\n",
      "2390/2390 [==============================] - 392s 164ms/step - loss: 1.2366 - acc: 0.5339 - val_loss: 1.3166 - val_acc: 0.5201\n",
      "Epoch 4/8\n",
      "2368/2390 [============================>.] - ETA: 3s - loss: 1.0788 - acc: 0.6060Epoch 00004: val_acc improved from 0.52007 to 0.55518, saving model to keras_model\n",
      "2390/2390 [==============================] - 391s 164ms/step - loss: 1.0768 - acc: 0.6067 - val_loss: 1.3103 - val_acc: 0.5552\n",
      "Epoch 5/8\n",
      "2368/2390 [============================>.] - ETA: 3s - loss: 0.9604 - acc: 0.6596Epoch 00005: val_acc improved from 0.55518 to 0.57191, saving model to keras_model\n",
      "2390/2390 [==============================] - 398s 167ms/step - loss: 0.9620 - acc: 0.6586 - val_loss: 1.3117 - val_acc: 0.5719\n",
      "Epoch 6/8\n",
      "2368/2390 [============================>.] - ETA: 3s - loss: 0.8781 - acc: 0.6871Epoch 00006: val_acc did not improve\n",
      "2390/2390 [==============================] - 397s 166ms/step - loss: 0.8802 - acc: 0.6874 - val_loss: 1.3466 - val_acc: 0.5468\n",
      "Epoch 7/8\n",
      "2368/2390 [============================>.] - ETA: 3s - loss: 0.8115 - acc: 0.7052Epoch 00007: val_acc did not improve\n",
      "2390/2390 [==============================] - 392s 164ms/step - loss: 0.8106 - acc: 0.7054 - val_loss: 1.3561 - val_acc: 0.5719\n",
      "Epoch 8/8\n",
      "2368/2390 [============================>.] - ETA: 3s - loss: 0.7677 - acc: 0.7217Epoch 00008: val_acc improved from 0.57191 to 0.57358, saving model to keras_model\n",
      "2390/2390 [==============================] - 389s 163ms/step - loss: 0.7690 - acc: 0.7222 - val_loss: 1.3681 - val_acc: 0.5736\n",
      "Tempo Total de Treinamento : 0:52:20.254650\n"
     ]
    }
   ],
   "source": [
    "# Teinamento do modelo LSTM, reservando 20% dos dados para validação\n",
    "start = datetime.now()\n",
    "history1 = modelo_lstm.fit(X_treino, y_treino, validation_split = 0.2, epochs = epochs, batch_size = batch_size,  callbacks=[ckpt_callback])\n",
    "print('Tempo Total de Treinamento :', datetime.now() - start)"
   ]
  },
  {
   "cell_type": "code",
   "execution_count": 61,
   "metadata": {},
   "outputs": [
    {
     "name": "stdout",
     "output_type": "stream",
     "text": [
      "Loss em validação: 1.3681484951223417\n",
      "Acurácia em validação: 0.5735785943209926\n"
     ]
    }
   ],
   "source": [
    "print('Loss em validação:', history1.history['val_loss'][-1])\n",
    "print('Acurácia em validação:', history1.history['val_acc'][-1])"
   ]
  },
  {
   "cell_type": "code",
   "execution_count": 62,
   "metadata": {
    "scrolled": false
   },
   "outputs": [
    {
     "data": {
      "image/png": "[encoded data removed]",
      "text/plain": [
       "<Figure size 720x288 with 1 Axes>"
      ]
     },
     "metadata": {
      "needs_background": "light"
     },
     "output_type": "display_data"
    }
   ],
   "source": [
    "# Plot do histórico de treinamento - Loss e Accuracy\n",
    "pd.DataFrame(history1.history).plot(figsize = (10, 4))\n",
    "plt.grid(True)\n",
    "plt.gca().set_ylim(0, 2.5)\n",
    "plt.title(\"Curva de Treinamento - Keras\")\n",
    "plt.xlabel(\"Epoch\")\n",
    "plt.show()"
   ]
  },
  {
   "cell_type": "markdown",
   "metadata": {},
   "source": [
    "## 5 - Previsão com Dados de Teste"
   ]
  },
  {
   "cell_type": "code",
   "execution_count": 63,
   "metadata": {},
   "outputs": [],
   "source": [
    "import scikitplot.plotters as skplt"
   ]
  },
  {
   "cell_type": "code",
   "execution_count": 64,
   "metadata": {},
   "outputs": [
    {
     "name": "stdout",
     "output_type": "stream",
     "text": [
      "333/333 [==============================] - 6s 17ms/step\n",
      "Loss: 1.3909341411905605\n",
      "Acurácia: 0.540540540630037\n"
     ]
    }
   ],
   "source": [
    "# Avaliação da previsão do modelo para os dados de teste\n",
    "score = modelo_lstm.evaluate(X_teste, y_teste, verbose = 1)\n",
    "\n",
    "print('Loss:', score[0])\n",
    "print('Acurácia:', score[1])"
   ]
  },
  {
   "cell_type": "code",
   "execution_count": 65,
   "metadata": {},
   "outputs": [],
   "source": [
    "# Previsões com dados de teste\n",
    "y_pred = modelo_lstm.predict(X_teste)"
   ]
  },
  {
   "cell_type": "code",
   "execution_count": 66,
   "metadata": {},
   "outputs": [
    {
     "name": "stdout",
     "output_type": "stream",
     "text": [
      "333/333 [==============================] - 6s 17ms/step\n"
     ]
    }
   ],
   "source": [
    "# Prever as probabilidades para a variável Class\n",
    "y_prob = modelo_lstm.predict_proba(X_teste)"
   ]
  },
  {
   "cell_type": "code",
   "execution_count": 67,
   "metadata": {},
   "outputs": [],
   "source": [
    "pred_indices = np.argmax(y_pred, axis=1)\n",
    "classes = np.array(range(1, 10))\n",
    "preds = classes[pred_indices]                   "
   ]
  },
  {
   "cell_type": "code",
   "execution_count": 68,
   "metadata": {},
   "outputs": [
    {
     "data": {
      "text/plain": [
       "<AxesSubplot:title={'center':'Confusion Matrix'}, xlabel='Predicted label', ylabel='True label'>"
      ]
     },
     "execution_count": 68,
     "metadata": {},
     "output_type": "execute_result"
    },
    {
     "data": {
      "image/png": "[encoded data removed]",
      "text/plain": [
       "<Figure size 432x288 with 2 Axes>"
      ]
     },
     "metadata": {
      "needs_background": "light"
     },
     "output_type": "display_data"
    }
   ],
   "source": [
    "# Confusion Matrix\n",
    "skplt.plot_confusion_matrix(classes[np.argmax(y_teste, axis=1)], preds)"
   ]
  },
  {
   "cell_type": "markdown",
   "metadata": {},
   "source": [
    "### Conclusão:\n",
    "\n",
    "Verifica-se na diagonal da matriz, acima, que as classes com mais observações (classes 7, 4, 1 e 2) foram as que apresentaram maiores acertos na previsão. Para melhorar a precisão do modelo teríamos que obter mais dados das demais classes."
   ]
  },
  {
   "cell_type": "code",
   "execution_count": 69,
   "metadata": {},
   "outputs": [
    {
     "data": {
      "text/html": [
       "<div>\n",
       "<style scoped>\n",
       "    .dataframe tbody tr th:only-of-type {\n",
       "        vertical-align: middle;\n",
       "    }\n",
       "\n",
       "    .dataframe tbody tr th {\n",
       "        vertical-align: top;\n",
       "    }\n",
       "\n",
       "    .dataframe thead th {\n",
       "        text-align: right;\n",
       "    }\n",
       "</style>\n",
       "<table border=\"1\" class=\"dataframe\">\n",
       "  <thead>\n",
       "    <tr style=\"text-align: right;\">\n",
       "      <th></th>\n",
       "      <th>Class1</th>\n",
       "      <th>Class2</th>\n",
       "      <th>Class3</th>\n",
       "      <th>Class4</th>\n",
       "      <th>Class5</th>\n",
       "      <th>Class6</th>\n",
       "      <th>Class7</th>\n",
       "      <th>Class8</th>\n",
       "      <th>Class9</th>\n",
       "    </tr>\n",
       "  </thead>\n",
       "  <tbody>\n",
       "    <tr>\n",
       "      <th>0</th>\n",
       "      <td>0.021481</td>\n",
       "      <td>0.074914</td>\n",
       "      <td>0.199646</td>\n",
       "      <td>0.042042</td>\n",
       "      <td>0.158794</td>\n",
       "      <td>0.071921</td>\n",
       "      <td>0.176847</td>\n",
       "      <td>5.883734e-02</td>\n",
       "      <td>1.955169e-01</td>\n",
       "    </tr>\n",
       "    <tr>\n",
       "      <th>1</th>\n",
       "      <td>0.833854</td>\n",
       "      <td>0.025717</td>\n",
       "      <td>0.002040</td>\n",
       "      <td>0.044389</td>\n",
       "      <td>0.035862</td>\n",
       "      <td>0.014752</td>\n",
       "      <td>0.041594</td>\n",
       "      <td>7.843227e-04</td>\n",
       "      <td>1.007462e-03</td>\n",
       "    </tr>\n",
       "    <tr>\n",
       "      <th>2</th>\n",
       "      <td>0.005037</td>\n",
       "      <td>0.425032</td>\n",
       "      <td>0.011678</td>\n",
       "      <td>0.005618</td>\n",
       "      <td>0.040817</td>\n",
       "      <td>0.021512</td>\n",
       "      <td>0.486593</td>\n",
       "      <td>1.494723e-03</td>\n",
       "      <td>2.218341e-03</td>\n",
       "    </tr>\n",
       "    <tr>\n",
       "      <th>3</th>\n",
       "      <td>0.005408</td>\n",
       "      <td>0.022934</td>\n",
       "      <td>0.377974</td>\n",
       "      <td>0.020084</td>\n",
       "      <td>0.101992</td>\n",
       "      <td>0.017635</td>\n",
       "      <td>0.251412</td>\n",
       "      <td>4.119535e-02</td>\n",
       "      <td>1.613664e-01</td>\n",
       "    </tr>\n",
       "    <tr>\n",
       "      <th>4</th>\n",
       "      <td>0.031670</td>\n",
       "      <td>0.094114</td>\n",
       "      <td>0.088082</td>\n",
       "      <td>0.019393</td>\n",
       "      <td>0.261264</td>\n",
       "      <td>0.072238</td>\n",
       "      <td>0.360808</td>\n",
       "      <td>2.209647e-02</td>\n",
       "      <td>5.033258e-02</td>\n",
       "    </tr>\n",
       "    <tr>\n",
       "      <th>5</th>\n",
       "      <td>0.000027</td>\n",
       "      <td>0.054266</td>\n",
       "      <td>0.000137</td>\n",
       "      <td>0.000035</td>\n",
       "      <td>0.000736</td>\n",
       "      <td>0.000038</td>\n",
       "      <td>0.944760</td>\n",
       "      <td>7.348621e-07</td>\n",
       "      <td>5.746048e-07</td>\n",
       "    </tr>\n",
       "    <tr>\n",
       "      <th>6</th>\n",
       "      <td>0.001822</td>\n",
       "      <td>0.002222</td>\n",
       "      <td>0.027078</td>\n",
       "      <td>0.105275</td>\n",
       "      <td>0.030989</td>\n",
       "      <td>0.818838</td>\n",
       "      <td>0.000921</td>\n",
       "      <td>1.415615e-03</td>\n",
       "      <td>1.143822e-02</td>\n",
       "    </tr>\n",
       "    <tr>\n",
       "      <th>7</th>\n",
       "      <td>0.011361</td>\n",
       "      <td>0.251307</td>\n",
       "      <td>0.008979</td>\n",
       "      <td>0.009877</td>\n",
       "      <td>0.028780</td>\n",
       "      <td>0.010473</td>\n",
       "      <td>0.676716</td>\n",
       "      <td>1.269601e-03</td>\n",
       "      <td>1.237127e-03</td>\n",
       "    </tr>\n",
       "    <tr>\n",
       "      <th>8</th>\n",
       "      <td>0.000497</td>\n",
       "      <td>0.776713</td>\n",
       "      <td>0.006567</td>\n",
       "      <td>0.004064</td>\n",
       "      <td>0.008555</td>\n",
       "      <td>0.009666</td>\n",
       "      <td>0.192743</td>\n",
       "      <td>4.605461e-04</td>\n",
       "      <td>7.344575e-04</td>\n",
       "    </tr>\n",
       "    <tr>\n",
       "      <th>9</th>\n",
       "      <td>0.104811</td>\n",
       "      <td>0.317935</td>\n",
       "      <td>0.006022</td>\n",
       "      <td>0.228184</td>\n",
       "      <td>0.020982</td>\n",
       "      <td>0.052692</td>\n",
       "      <td>0.266189</td>\n",
       "      <td>1.519645e-03</td>\n",
       "      <td>1.666539e-03</td>\n",
       "    </tr>\n",
       "  </tbody>\n",
       "</table>\n",
       "</div>"
      ],
      "text/plain": [
       "     Class1    Class2    Class3    Class4    Class5    Class6    Class7  \\\n",
       "0  0.021481  0.074914  0.199646  0.042042  0.158794  0.071921  0.176847   \n",
       "1  0.833854  0.025717  0.002040  0.044389  0.035862  0.014752  0.041594   \n",
       "2  0.005037  0.425032  0.011678  0.005618  0.040817  0.021512  0.486593   \n",
       "3  0.005408  0.022934  0.377974  0.020084  0.101992  0.017635  0.251412   \n",
       "4  0.031670  0.094114  0.088082  0.019393  0.261264  0.072238  0.360808   \n",
       "5  0.000027  0.054266  0.000137  0.000035  0.000736  0.000038  0.944760   \n",
       "6  0.001822  0.002222  0.027078  0.105275  0.030989  0.818838  0.000921   \n",
       "7  0.011361  0.251307  0.008979  0.009877  0.028780  0.010473  0.676716   \n",
       "8  0.000497  0.776713  0.006567  0.004064  0.008555  0.009666  0.192743   \n",
       "9  0.104811  0.317935  0.006022  0.228184  0.020982  0.052692  0.266189   \n",
       "\n",
       "         Class8        Class9  \n",
       "0  5.883734e-02  1.955169e-01  \n",
       "1  7.843227e-04  1.007462e-03  \n",
       "2  1.494723e-03  2.218341e-03  \n",
       "3  4.119535e-02  1.613664e-01  \n",
       "4  2.209647e-02  5.033258e-02  \n",
       "5  7.348621e-07  5.746048e-07  \n",
       "6  1.415615e-03  1.143822e-02  \n",
       "7  1.269601e-03  1.237127e-03  \n",
       "8  4.605461e-04  7.344575e-04  \n",
       "9  1.519645e-03  1.666539e-03  "
      ]
     },
     "execution_count": 69,
     "metadata": {},
     "output_type": "execute_result"
    }
   ],
   "source": [
    "# Visualizando as probabilidades das classes para os 10 primeiros registros\n",
    "pred = pd.DataFrame(y_prob)\n",
    "pred.columns = ['Class1', 'Class2', 'Class3', 'Class4', 'Class5', 'Class6', 'Class7', 'Class8', 'Class9']\n",
    "pred.head(10)"
   ]
  },
  {
   "cell_type": "markdown",
   "metadata": {},
   "source": [
    "## Fim"
   ]
  }
 ],
 "metadata": {
  "kernelspec": {
   "display_name": "Python 3",
   "language": "python",
   "name": "python3"
  },
  "language_info": {
   "codemirror_mode": {
    "name": "ipython",
    "version": 3
   },
   "file_extension": ".py",
   "mimetype": "text/x-python",
   "name": "python",
   "nbconvert_exporter": "python",
   "pygments_lexer": "ipython3",
   "version": "3.7.3"
  }
 },
 "nbformat": 4,
 "nbformat_minor": 2
}
